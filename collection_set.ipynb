{
  "nbformat": 4,
  "nbformat_minor": 0,
  "metadata": {
    "colab": {
      "provenance": [],
      "authorship_tag": "ABX9TyPGgNUCQ/6kSX+Wn3Hdq661",
      "include_colab_link": true
    },
    "kernelspec": {
      "name": "python3",
      "display_name": "Python 3"
    },
    "language_info": {
      "name": "python"
    }
  },
  "cells": [
    {
      "cell_type": "markdown",
      "metadata": {
        "id": "view-in-github",
        "colab_type": "text"
      },
      "source": [
        "<a href=\"https://colab.research.google.com/github/prabur90/Python/blob/main/collection_set.ipynb\" target=\"_parent\"><img src=\"https://colab.research.google.com/assets/colab-badge.svg\" alt=\"Open In Colab\"/></a>"
      ]
    },
    {
      "cell_type": "markdown",
      "source": [
        "\n",
        "### SETS\n",
        "\n"
      ],
      "metadata": {
        "id": "bE8BUeoyfcwJ"
      }
    },
    {
      "cell_type": "markdown",
      "source": [
        "\n",
        "```\n",
        "2) Set should not contain duplicate elements.\n",
        "2) We can't change the items but we can add and remove the items in the set\n",
        "3) Set does not have the insertion order\n",
        "\n",
        "Syntax: set_name = set()\n",
        "Example: set = set(\"Apple\",\"Banana\",\"Orange\")\n",
        "set = {\"Apple\",\"Banana\",\"Orange\"}\n",
        "```"
      ],
      "metadata": {
        "id": "E8YKHbnhyuYQ"
      }
    },
    {
      "cell_type": "markdown",
      "source": [
        "\n",
        "# CREATE OPERATION"
      ],
      "metadata": {
        "id": "J_Hp0Urfte7E"
      }
    },
    {
      "cell_type": "code",
      "source": [
        "# Create a dict using the curly braces\n",
        "fruits = {\"Apple\",\"Banana\",\"Orange\"}\n",
        "print(fruits)\n",
        "print(type(fruits))\n",
        "\n",
        "\"\"\"\n",
        "my_set = set()\n",
        "print(my_set)\n",
        "print(type(my_set))\n",
        "\"\"\"\n",
        "\n",
        "# set don't have duplicate items and it won't throw any excetion\n",
        "fruits = {\"Apple\",\"Banana\",\"Orange\",\"Apple\"}\n",
        "print(fruits)\n",
        "\n",
        "# True and 1 are same as well False and 0 are same\n",
        "booleans = {True,False, 1, 0}\n",
        "print(booleans)\n"
      ],
      "metadata": {
        "colab": {
          "base_uri": "https://localhost:8080/"
        },
        "id": "Rb4cKLfqqM0g",
        "outputId": "36de32cc-a3c7-4cb7-8921-3648f709ec3c"
      },
      "execution_count": 13,
      "outputs": [
        {
          "output_type": "stream",
          "name": "stdout",
          "text": [
            "{'Banana', 'Apple', 'Orange'}\n",
            "<class 'set'>\n",
            "{'Banana', 'Apple', 'Orange'}\n",
            "{False, True}\n"
          ]
        }
      ]
    },
    {
      "cell_type": "markdown",
      "source": [
        "\n",
        "# READ OPERATION"
      ],
      "metadata": {
        "id": "_AAWrOOfs8cq"
      }
    },
    {
      "cell_type": "code",
      "source": [
        "# We can access the set elements using the for loop only\n",
        "fruits = {\"Apple\",\"Banana\",\"Orange\"}\n",
        "for x in fruits:\n",
        "  print(x)\n",
        "\n",
        "# We can't get the element using index, because it is unordered data type'set' object is not subscriptable\n",
        "# 'set' object is not subscriptable\n",
        "# print(fruits[1])"
      ],
      "metadata": {
        "colab": {
          "base_uri": "https://localhost:8080/"
        },
        "id": "QSqWFxSutAbq",
        "outputId": "642537c0-0266-4d39-b51f-9ae386c0c37d"
      },
      "execution_count": 16,
      "outputs": [
        {
          "output_type": "stream",
          "name": "stdout",
          "text": [
            "Banana\n",
            "Apple\n",
            "Orange\n"
          ]
        }
      ]
    },
    {
      "cell_type": "markdown",
      "source": [
        "\n",
        "# UPDATE OPERATION"
      ],
      "metadata": {
        "id": "Zar6VXmWtpnt"
      }
    },
    {
      "cell_type": "code",
      "source": [
        "# Once a set is created, you cannot change its items, but you can add new items.\n",
        "# Add one item to a set\n",
        "fruits = {\"Apple\",\"Banana\",\"Orange\"}\n",
        "fruits.add(\"Mango\")\n",
        "print(fruits)\n",
        "\n",
        "# Add multiple items to a set\n",
        "fruits.update([\"Guava\",\"Pineapple\"]) # We can add any iterables\n",
        "print(fruits)\n",
        "\n",
        "# Update the set from another set\n",
        "thisset = {\"apple\", \"banana\", \"cherry\"}\n",
        "tropical = {\"pineapple\", \"mango\", \"papaya\"}\n",
        "thisset.update(tropical)\n",
        "print(thisset)\n",
        "\n"
      ],
      "metadata": {
        "colab": {
          "base_uri": "https://localhost:8080/"
        },
        "id": "EylT5wNhtsCz",
        "outputId": "3b273f56-c188-430e-8dd3-daf21122e56f"
      },
      "execution_count": 22,
      "outputs": [
        {
          "output_type": "stream",
          "name": "stdout",
          "text": [
            "{'Banana', 'Apple', 'Mango', 'Orange'}\n",
            "{'Mango', 'Pineapple', 'Guava', 'Orange', 'Banana', 'Apple'}\n",
            "{'papaya', 'pineapple', 'mango', 'banana', 'apple', 'cherry'}\n"
          ]
        }
      ]
    },
    {
      "cell_type": "markdown",
      "source": [
        "\n",
        "# DELETE OPERATION"
      ],
      "metadata": {
        "id": "ZE361Zkgu4Sq"
      }
    },
    {
      "cell_type": "code",
      "source": [
        "# remove, discard, pop, clear, del\n",
        "# remvoe - If the item to remove does not exist, remove() will raise an error.\n",
        "fruits = {\"Apple\",\"Banana\",\"Orange\"}\n",
        "fruits.remove(\"Apple\")\n",
        "print(fruits)\n",
        "\n",
        "# discard - If the item to remove does not exist, discard() will NOT raise an error.\n",
        "fruits.discard(\"Banana\")\n",
        "print(fruits)\n",
        "\n",
        "# pop - removes a random item from the set and return the value\n",
        "fruits = {\"Apple\",\"Banana\",\"Orange\"}\n",
        "fruite_name =fruits.pop()\n",
        "print(fruits)\n",
        "print(f\"Removed Element --> {fruite_name}\")\n",
        "\n",
        "# clear - removes all the items from the set\n",
        "fruits.clear()\n",
        "print(fruits)\n",
        "\n",
        "# del - removes the set\n",
        "fruits = {\"Apple\",\"Banana\",\"Orange\"}\n",
        "del fruits\n",
        "print(fruits)\n"
      ],
      "metadata": {
        "colab": {
          "base_uri": "https://localhost:8080/",
          "height": 263
        },
        "id": "KjjRd4Ugu7rq",
        "outputId": "4f518dca-9b2e-4dd8-e270-8b281a1a5be1"
      },
      "execution_count": 31,
      "outputs": [
        {
          "output_type": "stream",
          "name": "stdout",
          "text": [
            "{'Banana', 'Orange'}\n",
            "{'Orange'}\n",
            "{'Apple', 'Orange'}\n",
            "Removed Element --> Banana\n",
            "set()\n"
          ]
        },
        {
          "output_type": "error",
          "ename": "NameError",
          "evalue": "name 'fruits' is not defined",
          "traceback": [
            "\u001b[0;31m---------------------------------------------------------------------------\u001b[0m",
            "\u001b[0;31mNameError\u001b[0m                                 Traceback (most recent call last)",
            "\u001b[0;32m<ipython-input-31-f1e349a5e2c6>\u001b[0m in \u001b[0;36m<cell line: 24>\u001b[0;34m()\u001b[0m\n\u001b[1;32m     22\u001b[0m \u001b[0mfruits\u001b[0m \u001b[0;34m=\u001b[0m \u001b[0;34m{\u001b[0m\u001b[0;34m\"Apple\"\u001b[0m\u001b[0;34m,\u001b[0m\u001b[0;34m\"Banana\"\u001b[0m\u001b[0;34m,\u001b[0m\u001b[0;34m\"Orange\"\u001b[0m\u001b[0;34m}\u001b[0m\u001b[0;34m\u001b[0m\u001b[0;34m\u001b[0m\u001b[0m\n\u001b[1;32m     23\u001b[0m \u001b[0;32mdel\u001b[0m \u001b[0mfruits\u001b[0m\u001b[0;34m\u001b[0m\u001b[0;34m\u001b[0m\u001b[0m\n\u001b[0;32m---> 24\u001b[0;31m \u001b[0mprint\u001b[0m\u001b[0;34m(\u001b[0m\u001b[0mfruits\u001b[0m\u001b[0;34m)\u001b[0m\u001b[0;34m\u001b[0m\u001b[0;34m\u001b[0m\u001b[0m\n\u001b[0m",
            "\u001b[0;31mNameError\u001b[0m: name 'fruits' is not defined"
          ]
        }
      ]
    },
    {
      "cell_type": "markdown",
      "source": [
        "\n",
        "# LENGTH OPERATION"
      ],
      "metadata": {
        "id": "AgCcqCTdGAjD"
      }
    },
    {
      "cell_type": "code",
      "source": [
        "# How to find the length of the set\n",
        "fruits = {\"Apple\",\"Banana\",\"Orange\"}\n",
        "print(len(fruits))"
      ],
      "metadata": {
        "colab": {
          "base_uri": "https://localhost:8080/"
        },
        "id": "Br1IGlmKGD2A",
        "outputId": "f8f0ffd0-f586-4141-f81d-b2899872d567"
      },
      "execution_count": 1,
      "outputs": [
        {
          "output_type": "stream",
          "name": "stdout",
          "text": [
            "3\n"
          ]
        }
      ]
    },
    {
      "cell_type": "markdown",
      "source": [
        "\n",
        "# JOIN OPERATION\n",
        "\n",
        "1) The **union()** and **update()** methods joins all items from both sets.\n",
        "\n",
        "2) The **intersection()** method keeps **ONLY the duplicates**.\n",
        "\n",
        "3) The **difference()** method keeps the items from the first set that are not in the other set(s).\n",
        "\n",
        "4) The **symmetric_difference()** method keeps all items EXCEPT the duplicates.\n",
        "\n"
      ],
      "metadata": {
        "id": "w0AP3W2rGO8A"
      }
    },
    {
      "cell_type": "code",
      "source": [
        "# Union and Update methods\n",
        "fruits = {\"Apple\",\"Banana\",\"Orange\"}\n",
        "tropical = {\"pineapple\", \"mango\", \"papaya\"}\n",
        "fruits.update(tropical)\n",
        "print(fruits)\n",
        "\n",
        "# union method\n",
        "fruits = {\"Apple\",\"Banana\",\"Orange\"}\n",
        "tropical = {\"pineapple\", \"mango\", \"papaya\"}\n",
        "fruits_tropical = fruits.union(tropical)\n",
        "print(fruits_tropical)\n",
        "\n",
        "# Intersection method\n",
        "fruits = {\"Apple\",\"Banana\",\"Orange\"}\n",
        "tropical = {\"pineapple\", \"mango\", \"Orange\"}\n",
        "common_fruites = fruits.intersection(tropical)\n",
        "print(common_fruites)\n",
        "\n",
        "# difference method\n",
        "fruits = {\"Apple\",\"Banana\",\"Orange\"}\n",
        "tropical = {\"pineapple\", \"mango\", \"Orange\"}\n",
        "dif_fruits = fruits.difference(tropical)\n",
        "print(fruits)\n",
        "\n",
        "# symmetric_difference method\n",
        "fruits = {\"Apple\",\"Banana\",\"Orange\"}\n",
        "tropical = {\"pineapple\", \"mango\", \"papaya\"}\n",
        "sym_fruits = fruits.symmetric_difference(tropical)\n",
        "print(fruits)"
      ],
      "metadata": {
        "colab": {
          "base_uri": "https://localhost:8080/"
        },
        "id": "5rSek5xqG0Z4",
        "outputId": "c4a4206f-5b4f-41a4-e2c3-e7f9e98fe417"
      },
      "execution_count": 7,
      "outputs": [
        {
          "output_type": "stream",
          "name": "stdout",
          "text": [
            "{'Orange', 'pineapple', 'Apple', 'papaya', 'mango', 'Banana'}\n",
            "{'Orange', 'pineapple', 'Apple', 'papaya', 'mango', 'Banana'}\n",
            "{'Orange'}\n",
            "{'Orange', 'Apple', 'Banana'}\n",
            "{'Orange', 'Apple', 'Banana'}\n"
          ]
        }
      ]
    },
    {
      "cell_type": "code",
      "source": [],
      "metadata": {
        "id": "FKjy3vskGRxJ"
      },
      "execution_count": null,
      "outputs": []
    }
  ]
}