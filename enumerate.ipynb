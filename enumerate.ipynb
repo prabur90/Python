{
  "nbformat": 4,
  "nbformat_minor": 0,
  "metadata": {
    "colab": {
      "provenance": [],
      "authorship_tag": "ABX9TyNE/EWynt471T1xb7fVSR3Y",
      "include_colab_link": true
    },
    "kernelspec": {
      "name": "python3",
      "display_name": "Python 3"
    },
    "language_info": {
      "name": "python"
    }
  },
  "cells": [
    {
      "cell_type": "markdown",
      "metadata": {
        "id": "view-in-github",
        "colab_type": "text"
      },
      "source": [
        "<a href=\"https://colab.research.google.com/github/prabur90/Python/blob/main/enumerate.ipynb\" target=\"_parent\"><img src=\"https://colab.research.google.com/assets/colab-badge.svg\" alt=\"Open In Colab\"/></a>"
      ]
    },
    {
      "cell_type": "markdown",
      "source": [
        "\n",
        "### ENUMERATE"
      ],
      "metadata": {
        "id": "6ZAIozN_sWmP"
      }
    },
    {
      "cell_type": "markdown",
      "source": [
        "\n",
        "```\n",
        "The enumerate () method adds a counter to an iterable and returns it in the form of an enumerating object.\n",
        "This enumerated object can then be used directly for loops or converted into a\n",
        "list of tuples using the list() function.\n",
        "\n",
        "Syntax: enumerate(iterable, start=0)\n",
        "```"
      ],
      "metadata": {
        "id": "E8YKHbnhyuYQ"
      }
    },
    {
      "cell_type": "markdown",
      "source": [
        "\n",
        "### LIST as ITERABLE"
      ],
      "metadata": {
        "id": "nq6fqgVt1JsR"
      }
    },
    {
      "cell_type": "code",
      "execution_count": 4,
      "metadata": {
        "colab": {
          "base_uri": "https://localhost:8080/"
        },
        "id": "XsU8cEqqwEZL",
        "outputId": "2d2efe18-0714-4a9d-e938-6fc001d75768"
      },
      "outputs": [
        {
          "output_type": "stream",
          "name": "stdout",
          "text": [
            "1 Prabu\n",
            "2 Ram\n",
            "3 Suresh\n",
            "4 John\n",
            "1012 Prabu\n",
            "1013 Ram\n",
            "1014 Suresh\n",
            "1015 John\n",
            "0 Prabu\n",
            "1 Ram\n",
            "2 Suresh\n",
            "3 John\n",
            "<enumerate object at 0x7b94d53bf100>\n",
            "[(0, 'Prabu'), (1, 'Ram'), (2, 'Suresh'), (3, 'John')]\n"
          ]
        }
      ],
      "source": [
        "# list as iterable\n",
        "employees = [\"Prabu\", \"Ram\", \"Suresh\", \"John\"]\n",
        "\n",
        "for i, employee in enumerate(employees, start=1):\n",
        "    print(i, employee)\n",
        "\n",
        "# with start value\n",
        "for i, employee in enumerate(employees, start=1012):\n",
        "    print(i, employee)\n",
        "\n",
        "# with default, it will start from zero\n",
        "for i, employee in enumerate(employees):\n",
        "    print(i, employee)\n",
        "\n",
        "# Return value\n",
        "print(enumerate(employees))\n",
        "\n",
        "# Converting to list of tuple values\n",
        "print(list(enumerate(employees)))"
      ]
    },
    {
      "cell_type": "markdown",
      "source": [
        "\n",
        "### TUPLE as ITERABLE"
      ],
      "metadata": {
        "id": "Eq58ygsM1PYa"
      }
    },
    {
      "cell_type": "code",
      "source": [
        "# Tuple as iterable\n",
        "employees = (\"Prabu\", \"Ram\", \"Suresh\", \"John\")\n",
        "\n",
        "for i, employee in enumerate(employees, start=1):\n",
        "    print(i, employee)"
      ],
      "metadata": {
        "colab": {
          "base_uri": "https://localhost:8080/"
        },
        "id": "_3LFHP6Z0E11",
        "outputId": "ed024670-6d55-4071-cfc4-ee456a56dc67"
      },
      "execution_count": 5,
      "outputs": [
        {
          "output_type": "stream",
          "name": "stdout",
          "text": [
            "1 Prabu\n",
            "2 Ram\n",
            "3 Suresh\n",
            "4 John\n"
          ]
        }
      ]
    },
    {
      "cell_type": "markdown",
      "source": [
        "\n",
        "### DICT as ITERABLE\n",
        "\n",
        "IMPORTANT in ENUMERATE"
      ],
      "metadata": {
        "id": "NQcEGE__1TyZ"
      }
    },
    {
      "cell_type": "code",
      "source": [
        "# dict as iterable\n",
        "employees = {\"Prabu\": 1001, \"Ram\": 1002, \"Suresh\": 1003, \"John\": 1004}\n",
        "\n",
        "# By default, if we pass the dict variable name, it will take the keys alone\n",
        "for i, employee in enumerate(employees, start=1):\n",
        "    print(i, employee)\n",
        "\n",
        "# If we want to use the values, then follow the below\n",
        "for i, employee in enumerate(employees.values()):\n",
        "    print(i, employee)\n",
        "\n",
        "# If we want to use the keys, then follow the below\n",
        "for i, employee in enumerate(employees.keys()):\n",
        "    print(i, employee)\n",
        "\n",
        "# If we want to use the items, then follow the below\n",
        "for i, employee in enumerate(employees.items()):\n",
        "    print(i, employee)"
      ],
      "metadata": {
        "colab": {
          "base_uri": "https://localhost:8080/"
        },
        "id": "oPScbpoY0RIz",
        "outputId": "d8e6afb3-36fc-4fa1-f5f6-695ddbc2738c"
      },
      "execution_count": 9,
      "outputs": [
        {
          "output_type": "stream",
          "name": "stdout",
          "text": [
            "1 Prabu\n",
            "2 Ram\n",
            "3 Suresh\n",
            "4 John\n",
            "0 1001\n",
            "1 1002\n",
            "2 1003\n",
            "3 1004\n",
            "0 Prabu\n",
            "1 Ram\n",
            "2 Suresh\n",
            "3 John\n",
            "0 ('Prabu', 1001)\n",
            "1 ('Ram', 1002)\n",
            "2 ('Suresh', 1003)\n",
            "3 ('John', 1004)\n"
          ]
        }
      ]
    },
    {
      "cell_type": "markdown",
      "source": [
        "\n",
        "### String as ITERABLE"
      ],
      "metadata": {
        "id": "4k96BiI_1hEK"
      }
    },
    {
      "cell_type": "code",
      "source": [
        "# string as iterable\n",
        "employees = \"Prabu\"\n",
        "\n",
        "for i, employee in enumerate(employees, start=1):\n",
        "    print(i, employee)"
      ],
      "metadata": {
        "colab": {
          "base_uri": "https://localhost:8080/"
        },
        "id": "IHz8jm-i07L5",
        "outputId": "ae4e121f-9e0f-4b48-cf7a-8164695f9e9d"
      },
      "execution_count": 10,
      "outputs": [
        {
          "output_type": "stream",
          "name": "stdout",
          "text": [
            "1 P\n",
            "2 r\n",
            "3 a\n",
            "4 b\n",
            "5 u\n"
          ]
        }
      ]
    },
    {
      "cell_type": "markdown",
      "source": [
        "\n",
        "### SET as ITERABLE"
      ],
      "metadata": {
        "id": "Vciba0ps1fl3"
      }
    },
    {
      "cell_type": "code",
      "source": [
        "# set as iterable\n",
        "employees = {\"Prabu\", \"Ram\", \"Suresh\", \"John\"}\n",
        "\n",
        "for i, employee in enumerate(employees, start=1):\n",
        "    print(i, employee)"
      ],
      "metadata": {
        "colab": {
          "base_uri": "https://localhost:8080/"
        },
        "id": "-CAdAu8j1BRc",
        "outputId": "9c83d1fe-5d2e-4fde-f28c-6bdcbc8c54d8"
      },
      "execution_count": 11,
      "outputs": [
        {
          "output_type": "stream",
          "name": "stdout",
          "text": [
            "1 Prabu\n",
            "2 John\n",
            "3 Suresh\n",
            "4 Ram\n"
          ]
        }
      ]
    }
  ]
}