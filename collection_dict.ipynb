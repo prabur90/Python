{
  "nbformat": 4,
  "nbformat_minor": 0,
  "metadata": {
    "colab": {
      "provenance": [],
      "authorship_tag": "ABX9TyO1pk3rsdc+oeTnw0NGhf9H",
      "include_colab_link": true
    },
    "kernelspec": {
      "name": "python3",
      "display_name": "Python 3"
    },
    "language_info": {
      "name": "python"
    }
  },
  "cells": [
    {
      "cell_type": "markdown",
      "metadata": {
        "id": "view-in-github",
        "colab_type": "text"
      },
      "source": [
        "<a href=\"https://colab.research.google.com/github/prabur90/Python/blob/main/collection_dict.ipynb\" target=\"_parent\"><img src=\"https://colab.research.google.com/assets/colab-badge.svg\" alt=\"Open In Colab\"/></a>"
      ]
    },
    {
      "cell_type": "markdown",
      "source": [
        "\n",
        "### TUPLE\n",
        "\n"
      ],
      "metadata": {
        "id": "6ZAIozN_sWmP"
      }
    },
    {
      "cell_type": "markdown",
      "source": [
        "\n",
        "### DICTIONARIES\n",
        "\n"
      ],
      "metadata": {
        "id": "bE8BUeoyfcwJ"
      }
    },
    {
      "cell_type": "markdown",
      "source": [
        "\n",
        "```\n",
        "1) Dictionaries stores the element in key-value pair\n",
        "2) Dict may contain duplicate elements.\n",
        "2) Dict is mutable.\n",
        "3) Dict is ordered after Python 3.7 version.\n",
        "\n",
        "Syntax: dict_name = {\"key1\":\"value1\", \"key2\":\"value2\"}\n",
        "Example: dict1 = {\"name\":\"Prabu\", \"age\":25}\n",
        "```"
      ],
      "metadata": {
        "id": "E8YKHbnhyuYQ"
      }
    },
    {
      "cell_type": "markdown",
      "source": [
        "\n",
        "# CREATE OPERATION"
      ],
      "metadata": {
        "id": "J_Hp0Urfte7E"
      }
    },
    {
      "cell_type": "code",
      "source": [
        "employee = {\"name\":\"Prabu\", \"age\":25}\n",
        "print(employee)\n",
        "print(type(employee))\n",
        "\n",
        "thisdict = dict(name = \"John\", age = 36, country = \"Norway\")\n",
        "print(thisdict)\n",
        "print(type(thisdict))\n",
        "\n",
        "# Create the dict using the fromkeys method\n",
        "x = ('key1', 'key2', 'key3')\n",
        "y = 0\n",
        "thisdict = dict.fromkeys(x, y)\n",
        "print(thisdict)\n",
        "print(type(thisdict))\n",
        "\n",
        "x = ('key1', 'key2', 'key3')\n",
        "thisdict = dict.fromkeys(x)\n",
        "print(thisdict)\n",
        "print(type(thisdict))"
      ],
      "metadata": {
        "colab": {
          "base_uri": "https://localhost:8080/"
        },
        "id": "kLV-frEVgBT6",
        "outputId": "2d3f2bec-c278-42f9-ad39-f930bca95413"
      },
      "execution_count": 29,
      "outputs": [
        {
          "output_type": "stream",
          "name": "stdout",
          "text": [
            "{'name': 'Prabu', 'age': 25}\n",
            "<class 'dict'>\n",
            "{'name': 'John', 'age': 36, 'country': 'Norway'}\n",
            "<class 'dict'>\n",
            "{'key1': 0, 'key2': 0, 'key3': 0}\n",
            "<class 'dict'>\n",
            "{'key1': None, 'key2': None, 'key3': None}\n",
            "<class 'dict'>\n"
          ]
        }
      ]
    },
    {
      "cell_type": "markdown",
      "source": [
        "\n",
        "# READ OPERATION"
      ],
      "metadata": {
        "id": "A803lv3dgk-g"
      }
    },
    {
      "cell_type": "code",
      "source": [
        "# How can we access the dict elements\n",
        "employee = {\"name\":\"Prabu\", \"age\":25}\n",
        "print(employee[\"name\"])\n",
        "\n",
        "# How to get the keys of a dict and return type is dict_keys\n",
        "print(employee.keys())\n",
        "print(type(employee.keys()))\n",
        "\n",
        "# How to get the values of a dict and return type is dict_values\n",
        "print(employee.values())\n",
        "print(type(employee.values()))\n",
        "\n",
        "# How to get the items of a dict and return type is dict_items\n",
        "print(employee.items())\n",
        "print(type(employee.items()))\n",
        "\n",
        "# Using for loop\n",
        "for item,value in employee.items():\n",
        "    print(f\"{item}-{value}\")\n",
        "\n",
        "# Using get method to fetch the value using key\n",
        "# If the key is not there, it will return None Value\n",
        "print(employee.get(\"name\"))\n",
        "print(employee.get(\"salary\", \"Not Found\"))\n",
        "\n",
        "# Negative case - When you are trying to access the key which is not present in the dict, you will get Key Error\n",
        "print(employee[\"gender\"])"
      ],
      "metadata": {
        "colab": {
          "base_uri": "https://localhost:8080/",
          "height": 367
        },
        "id": "48h3f5S9goil",
        "outputId": "ef8236c5-d844-4039-a4b4-9c2958af1fdb"
      },
      "execution_count": 38,
      "outputs": [
        {
          "output_type": "stream",
          "name": "stdout",
          "text": [
            "Prabu\n",
            "dict_keys(['name', 'age'])\n",
            "<class 'dict_keys'>\n",
            "dict_values(['Prabu', 25])\n",
            "<class 'dict_values'>\n",
            "dict_items([('name', 'Prabu'), ('age', 25)])\n",
            "<class 'dict_items'>\n",
            "name-Prabu\n",
            "age-25\n",
            "Prabu\n",
            "Not Found\n"
          ]
        },
        {
          "output_type": "error",
          "ename": "KeyError",
          "evalue": "'gender'",
          "traceback": [
            "\u001b[0;31m---------------------------------------------------------------------------\u001b[0m",
            "\u001b[0;31mKeyError\u001b[0m                                  Traceback (most recent call last)",
            "\u001b[0;32m<ipython-input-38-91afb7a71d58>\u001b[0m in \u001b[0;36m<cell line: 27>\u001b[0;34m()\u001b[0m\n\u001b[1;32m     25\u001b[0m \u001b[0;34m\u001b[0m\u001b[0m\n\u001b[1;32m     26\u001b[0m \u001b[0;31m# Negative case - When you are trying to access the key which is not present in the dict, you will get Key Error\u001b[0m\u001b[0;34m\u001b[0m\u001b[0;34m\u001b[0m\u001b[0m\n\u001b[0;32m---> 27\u001b[0;31m \u001b[0mprint\u001b[0m\u001b[0;34m(\u001b[0m\u001b[0memployee\u001b[0m\u001b[0;34m[\u001b[0m\u001b[0;34m\"gender\"\u001b[0m\u001b[0;34m]\u001b[0m\u001b[0;34m)\u001b[0m\u001b[0;34m\u001b[0m\u001b[0;34m\u001b[0m\u001b[0m\n\u001b[0m",
            "\u001b[0;31mKeyError\u001b[0m: 'gender'"
          ]
        }
      ]
    },
    {
      "cell_type": "markdown",
      "source": [
        "\n",
        "# UPDATE OPERATION"
      ],
      "metadata": {
        "id": "jL9w2Oig36aS"
      }
    },
    {
      "cell_type": "code",
      "source": [
        "# How to update the entire item using update method\n",
        "employee = {\"name\":\"Prabu\", \"age\":25}\n",
        "employee.update({\"age\":26})\n",
        "print(employee)\n",
        "\n",
        "# How to update the specific value of the key\n",
        "employee = {\"name\":\"Prabu\", \"age\":25}\n",
        "employee[\"name\"] = \"Ram\"\n",
        "print(employee)\n",
        "\n",
        "# How to add items into the existing dict\n",
        "employee = {\"name\":\"Prabu\", \"age\":25}\n",
        "employee[\"gender\"] = \"M\"\n",
        "print(employee)\n",
        "\n",
        "# Update the dict using setdefault method\n",
        "car = {\n",
        "  \"brand\": \"Ford\",\n",
        "  \"model\": \"Mustang\",\n",
        "  \"year\": 1964\n",
        "}\n",
        "\n",
        "x = car.setdefault(\"color\", \"white\")"
      ],
      "metadata": {
        "colab": {
          "base_uri": "https://localhost:8080/"
        },
        "id": "aCT8jl-l39kx",
        "outputId": "7ac24ca8-d8fe-4c14-fc0d-d422da2f2f5e"
      },
      "execution_count": 30,
      "outputs": [
        {
          "output_type": "stream",
          "name": "stdout",
          "text": [
            "{'name': 'Prabu', 'age': 26}\n",
            "{'name': 'Ram', 'age': 25}\n",
            "{'name': 'Prabu', 'age': 25, 'gender': 'M'}\n"
          ]
        }
      ]
    },
    {
      "cell_type": "markdown",
      "source": [
        "\n",
        "# DELETE OPERATION"
      ],
      "metadata": {
        "id": "C5FINGdi6K4q"
      }
    },
    {
      "cell_type": "code",
      "source": [
        "# Remove using pop method\n",
        "employee = {'name': 'Prabu', 'age': 25, 'gender': 'M'}\n",
        "employee.pop(\"name\")\n",
        "print(employee)\n",
        "# employee.pop()  # It will throw error in dict, You need to pass the element for this pop method\n",
        "print(employee)\n",
        "\n",
        "# Remove using popitem method, It will remove the last item from Python 3.7 Version. Previosly it was removed random item. We can't pass the key into the potitem method\n",
        "employee = {'name': 'Prabu', 'age': 25, 'gender': 'M'}\n",
        "employee.popitem()\n",
        "print(employee)\n",
        "\n",
        "# How to remove the entire dict as well as remove the particual element\n",
        "employee = {'name': 'Prabu', 'age': 25, 'gender': 'M'}\n",
        "del employee[\"name\"]\n",
        "# print(employee[\"name\"])\n",
        "\n",
        "employee = {'name': 'Prabu', 'age': 25, 'gender': 'M'}\n",
        "del employee\n",
        "# print(employee)\n",
        "\n",
        "# Clear all the elements from dict\n",
        "employee = {'name': 'Prabu', 'age': 25, 'gender': 'M'}\n",
        "employee.clear()\n",
        "print(employee)"
      ],
      "metadata": {
        "colab": {
          "base_uri": "https://localhost:8080/"
        },
        "id": "G7JcMJ826O9H",
        "outputId": "c0ec2b08-2f57-4b63-93c8-2ac05ffa56d8"
      },
      "execution_count": 26,
      "outputs": [
        {
          "output_type": "stream",
          "name": "stdout",
          "text": [
            "{'age': 25, 'gender': 'M'}\n",
            "{'age': 25, 'gender': 'M'}\n",
            "{'name': 'Prabu', 'age': 25}\n",
            "{}\n"
          ]
        }
      ]
    },
    {
      "cell_type": "markdown",
      "source": [
        "\n",
        "# LENGTH AND COUNT"
      ],
      "metadata": {
        "id": "6srr9-lt9IdY"
      }
    },
    {
      "cell_type": "code",
      "source": [
        "# How to get the length of a dict\n",
        "employee = {'name': 'Prabu', 'age': 25, 'gender': 'M'}\n",
        "print(len(employee))\n",
        "\n",
        "# Count Method is not available in dict, since it won't be duplicate"
      ],
      "metadata": {
        "colab": {
          "base_uri": "https://localhost:8080/"
        },
        "id": "9iftPERe9Mzc",
        "outputId": "54bc9500-420f-4949-ab9d-8396d6988369"
      },
      "execution_count": 35,
      "outputs": [
        {
          "output_type": "stream",
          "name": "stdout",
          "text": [
            "3\n"
          ]
        }
      ]
    }
  ]
}