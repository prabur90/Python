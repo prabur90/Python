{
  "nbformat": 4,
  "nbformat_minor": 0,
  "metadata": {
    "colab": {
      "provenance": [],
      "authorship_tag": "ABX9TyNuTNIKEqCsJ6A62IHO1qRH",
      "include_colab_link": true
    },
    "kernelspec": {
      "name": "python3",
      "display_name": "Python 3"
    },
    "language_info": {
      "name": "python"
    }
  },
  "cells": [
    {
      "cell_type": "markdown",
      "metadata": {
        "id": "view-in-github",
        "colab_type": "text"
      },
      "source": [
        "<a href=\"https://colab.research.google.com/github/prabur90/Python/blob/main/zip.ipynb\" target=\"_parent\"><img src=\"https://colab.research.google.com/assets/colab-badge.svg\" alt=\"Open In Colab\"/></a>"
      ]
    },
    {
      "cell_type": "markdown",
      "source": [
        "\n",
        "### ZIP"
      ],
      "metadata": {
        "id": "6ZAIozN_sWmP"
      }
    },
    {
      "cell_type": "markdown",
      "source": [
        "\n",
        "```\n",
        "The zip() function returns a zip object, which is an iterator of tuples where the first item in each passed iterator is paired together, and then the second item in each passed iterator are paired together etc.\n",
        "\n",
        "If the passed iterables have different lengths, the iterable with the least items decides the length of the new iterator\n",
        "\n",
        "Syntax: zip(iterable1, iterable2, iterable3, etc\n",
        ")\n",
        "```"
      ],
      "metadata": {
        "id": "E8YKHbnhyuYQ"
      }
    },
    {
      "cell_type": "code",
      "execution_count": 3,
      "metadata": {
        "colab": {
          "base_uri": "https://localhost:8080/"
        },
        "id": "aqy327Ym2bel",
        "outputId": "93ef8aba-319d-463b-c6e5-1e20bffc89c7"
      },
      "outputs": [
        {
          "output_type": "stream",
          "name": "stdout",
          "text": [
            "<zip object at 0x7f0c09427bc0>\n",
            "[('Prabu', 23, 20000), ('Ram', 24, 21000), ('Kumar', 25, 22000)]\n"
          ]
        }
      ],
      "source": [
        "# zip method will return zip object\n",
        "name = [\"Prabu\", \"Ram\",\"Kumar\"]\n",
        "age = [23,24,25]\n",
        "salary = [20000,21000,22000]\n",
        "employee = zip(name,age,salary)\n",
        "print(employee)\n",
        "\n",
        "\n",
        "# Converting the zip object to list will give the list of tuples\n",
        "print(list(employee))"
      ]
    },
    {
      "cell_type": "code",
      "source": [
        "# Iterables with different length, It won't throw any error\n",
        "name = [\"Prabu\", \"Ram\",\"Kumar\"]\n",
        "age = [23,24,25,36,37,28]\n",
        "salary = [20000,21000,22000, 23000, 24000]\n",
        "employee = list(zip(name,age,salary))\n",
        "# you can notice that iterable with the least items decides the length of the new iterator. Here it is \"name\"\n",
        "print(employee)"
      ],
      "metadata": {
        "colab": {
          "base_uri": "https://localhost:8080/"
        },
        "id": "xAeVf2488QDv",
        "outputId": "cfc0147e-0aca-4648-ab61-1a8f2fd31080"
      },
      "execution_count": 6,
      "outputs": [
        {
          "output_type": "stream",
          "name": "stdout",
          "text": [
            "[('Prabu', 23, 20000), ('Ram', 24, 21000), ('Kumar', 25, 22000)]\n"
          ]
        }
      ]
    },
    {
      "cell_type": "markdown",
      "source": [
        "\n",
        "### ZIP_LONGEST"
      ],
      "metadata": {
        "id": "F-fZb3iL8zOi"
      }
    },
    {
      "cell_type": "code",
      "source": [
        "import itertools\n",
        "from itertools import zip_longest\n",
        "\n",
        "# Iterables with different length, It won't throw any error\n",
        "name = [\"Prabu\", \"Ram\",\"Kumar\"]\n",
        "age = [23,24,25,36,37,28]\n",
        "salary = [20000,21000,22000, 23000, 24000]\n",
        "employee = list((zip_longest(name,age,salary)))\n",
        "# you can notice that None value will be appended if the value is not there\n",
        "print(employee)"
      ],
      "metadata": {
        "colab": {
          "base_uri": "https://localhost:8080/"
        },
        "id": "v-Ow1wkO8vfn",
        "outputId": "b54d1a88-cb94-4678-f6e2-13359590a3b4"
      },
      "execution_count": 10,
      "outputs": [
        {
          "output_type": "stream",
          "name": "stdout",
          "text": [
            "[('Prabu', 23, 20000), ('Ram', 24, 21000), ('Kumar', 25, 22000), (None, 36, 23000), (None, 37, 24000), (None, 28, None)]\n"
          ]
        }
      ]
    }
  ]
}