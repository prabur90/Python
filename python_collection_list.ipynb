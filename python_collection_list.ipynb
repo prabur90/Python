{
  "nbformat": 4,
  "nbformat_minor": 0,
  "metadata": {
    "colab": {
      "provenance": [],
      "authorship_tag": "ABX9TyOXGIlj1FpkyPzhKKV1Tf4N",
      "include_colab_link": true
    },
    "kernelspec": {
      "name": "python3",
      "display_name": "Python 3"
    },
    "language_info": {
      "name": "python"
    }
  },
  "cells": [
    {
      "cell_type": "markdown",
      "metadata": {
        "id": "view-in-github",
        "colab_type": "text"
      },
      "source": [
        "<a href=\"https://colab.research.google.com/github/prabur90/Python/blob/Collections_and_datatypes/python_collection_list.ipynb\" target=\"_parent\"><img src=\"https://colab.research.google.com/assets/colab-badge.svg\" alt=\"Open In Colab\"/></a>"
      ]
    },
    {
      "cell_type": "markdown",
      "source": [
        "\n",
        "```\n",
        " This Program will explain the the concepts of Python List Data Type in Python\n",
        "```\n"
      ],
      "metadata": {
        "id": "QfVk65v2t9bk"
      }
    },
    {
      "cell_type": "markdown",
      "source": [
        "\n",
        "# List\n",
        "```\n",
        "1) List may contain duplicate Elements\n",
        "2) Follow the insertion order\n",
        "3) Mutable - We can add or remove the elements after created\n",
        "4) Syntax:\n",
        "      list1 = []\n",
        "5) Example:\n",
        "      list1 = [1,2,3, \"Prabu\", \"Ram\"]\n",
        "6) We can access the element using it's index\n",
        "```"
      ],
      "metadata": {
        "id": "E8YKHbnhyuYQ"
      }
    },
    {
      "cell_type": "markdown",
      "source": [
        "\n",
        "# CREATE OPERATION"
      ],
      "metadata": {
        "id": "ODyOOg9jNCw2"
      }
    },
    {
      "cell_type": "code",
      "source": [
        "# Create a list\n",
        "list = [1, 2, 3, \"Prabu\", (4,5),{\"age\":37}]\n",
        "print(list)\n",
        "print(type(list))"
      ],
      "metadata": {
        "colab": {
          "base_uri": "https://localhost:8080/"
        },
        "id": "8mgm3FRwuEfo",
        "outputId": "f7bde9d4-21b6-4dbd-9132-dfa991ab4099"
      },
      "execution_count": 13,
      "outputs": [
        {
          "output_type": "stream",
          "name": "stdout",
          "text": [
            "[1, 2, 3, 'Prabu', (4, 5), {'age': 37}]\n",
            "<class 'list'>\n"
          ]
        }
      ]
    },
    {
      "cell_type": "markdown",
      "source": [
        "\n",
        "# READ OPERATION"
      ],
      "metadata": {
        "id": "4nxs0LpRN9fA"
      }
    },
    {
      "cell_type": "code",
      "source": [
        "# Accessing the List Elements using index\n",
        "# Index starts from 0\n",
        "print(list[0])\n",
        "print(list[1])\n",
        "print(list[2])\n",
        "print(list[3])\n",
        "print(list[4])\n",
        "print(list[5])\n",
        "\n",
        "# Using for loop\n",
        "for i in list:\n",
        "    print(i, end=\" \")"
      ],
      "metadata": {
        "collapsed": true,
        "id": "l8zLZIVCytQZ"
      },
      "execution_count": null,
      "outputs": []
    },
    {
      "cell_type": "markdown",
      "source": [
        "\n",
        "# UPDATE OPERATION\n",
        "\n"
      ],
      "metadata": {
        "id": "muQ5Fmm0OXDT"
      }
    },
    {
      "cell_type": "code",
      "source": [
        "# Update using index value\n",
        "print(\"UPDATE using INDEX\")\n",
        "list = [1, 2, 3, 'Prabu', (4, 5), {'age': 37}]\n",
        "print(f\"Initial list element ---> {list}\", end=\"\\n\")\n",
        "list[0] = 10\n",
        "print(f\"Updated list element using index position 0 ---> {list}\", end=\"\\n\\n\")\n",
        "\n",
        "# insert method\n",
        "list1 = [1,2,3]\n",
        "print(\"INSERT\")\n",
        "print(f\"Initial list1 element ---> {list1}\")\n",
        "list1.insert(2, 10)\n",
        "print(f\"After inserting at the Position 2 ---> {list1}\", end=\"\\n\\n\")\n",
        "\n",
        "# Add element using append method\n",
        "\"\"\"\n",
        "1. We can add one element at a time\n",
        "2. It will be added in the last index\n",
        "3. When we pass more than one element it will throw TypeError\n",
        "\"\"\"\n",
        "print(\"APPEND\")\n",
        "list = [1, 2, 3, 'Prabu', (4, 5), {'age': 37}]\n",
        "print(f\"Initial list element ---> {list}\", end=\"\\n\")\n",
        "list.append(\"Tech Lead\")\n",
        "print(f\"After append the element ---> {list}\", end=\"\\n\\n\")\n",
        "salary = {\"salary\":35000}\n",
        "\n",
        "\n",
        "# extend method is used for extending the \"list of elements\" at the end\n",
        "list1 = [1,2,3]\n",
        "list2 = [4,5,6]\n",
        "print(\"EXTEND\")\n",
        "print(f\"Initial list1 element ---> {list1}\", end=\"\\n\")\n",
        "print(f\"Initial list2 element ---> {list2}\", end=\"\\n\")\n",
        "\n",
        "list1.extend(list2)\n",
        "print(f\"After Extending the list1 ---> {list1}\", end=\"\\n\\n\")\n",
        "\n",
        "\n",
        "print(\"DIFFERENCE BETWEEN EXTEND and APPEND\")\n",
        "list1 = [1,2,3]\n",
        "list2 = [4,5,6]\n",
        "print(\"Extend\")\n",
        "print(f\"Initial list1 element ---> {list1}\", end=\"\\n\")\n",
        "print(f\"Initial list2 element ---> {list2}\", end=\"\\n\")\n",
        "list1.extend(list2)\n",
        "print(f\"After Extending the list1 ---> {list1}\", end=\"\\n\\n\")\n",
        "\n",
        "print(\"Append\")\n",
        "list1 = [1,2,3]\n",
        "list2 = [4,5,6]\n",
        "print(f\"Initial list1 element ---> {list1}\", end=\"\\n\")\n",
        "print(f\"Initial list2 element ---> {list2}\", end=\"\\n\")\n",
        "list1.append(list2)\n",
        "print(f\"After Appending the list1 ---> {list1}\", end=\"\\n\\n\")"
      ],
      "metadata": {
        "colab": {
          "base_uri": "https://localhost:8080/"
        },
        "id": "_mIhvqKtuZT3",
        "outputId": "f1540bf8-ea79-4a55-abd3-88323e0327a7"
      },
      "execution_count": 51,
      "outputs": [
        {
          "output_type": "stream",
          "name": "stdout",
          "text": [
            "UPDATE using INDEX\n",
            "Initial list element ---> [1, 2, 3, 'Prabu', (4, 5), {'age': 37}]\n",
            "Updated list element using index position 0 ---> [10, 2, 3, 'Prabu', (4, 5), {'age': 37}]\n",
            "\n",
            "INSERT\n",
            "Initial list1 element ---> [1, 2, 3]\n",
            "After inserting at the Position 2 ---> [1, 2, 10, 3]\n",
            "\n",
            "APPEND\n",
            "Initial list element ---> [1, 2, 3, 'Prabu', (4, 5), {'age': 37}]\n",
            "After append the element ---> [1, 2, 3, 'Prabu', (4, 5), {'age': 37}, 'Tech Lead']\n",
            "\n",
            "EXTEND\n",
            "Initial list1 element ---> [1, 2, 3]\n",
            "Initial list2 element ---> [4, 5, 6]\n",
            "After Extending the list1 ---> [1, 2, 3, 4, 5, 6]\n",
            "\n",
            "DIFFERENCE BETWEEN EXTEND and APPEND\n",
            "Extend\n",
            "Initial list1 element ---> [1, 2, 3]\n",
            "Initial list2 element ---> [4, 5, 6]\n",
            "After Extending the list1 ---> [1, 2, 3, 4, 5, 6]\n",
            "\n",
            "Append\n",
            "Initial list1 element ---> [1, 2, 3]\n",
            "Initial list2 element ---> [4, 5, 6]\n",
            "After Appending the list1 ---> [1, 2, 3, [4, 5, 6]]\n",
            "\n"
          ]
        }
      ]
    },
    {
      "cell_type": "markdown",
      "source": [
        "# DELETE OPERATION"
      ],
      "metadata": {
        "id": "SuoKttbGXUad"
      }
    },
    {
      "cell_type": "code",
      "source": [
        "# remove method will remove the \"first occurence of the element\" in the list\n",
        "# if the element is not present it will throw ValueError\n",
        "# It will remove the element not based upon the Index\n",
        "list1 = [1,2,\"Prabu\",\"Ram\",4,5]\n",
        "print(\"REMOVE\")\n",
        "print(f\"Initial elements in the list ---> {list1}\", end=\"\\n\")\n",
        "list1.remove(\"Prabu\")\n",
        "print(f\"After removing the element ---> {list1}\", end=\"\\n\\n\")\n",
        "\n",
        "# pop method will remove the element and returned the removed element\n",
        "# If we don't pass the index, it will remove at the end of the element\n",
        "list1 = [1,2,\"Prabu\",\"Ram\",4,5]\n",
        "print(\"POP\")\n",
        "print(f\"Initial elements in the list ---> {list1}\", end=\"\\n\")\n",
        "removed_element = list1.pop()\n",
        "print(f\"After popping the element in the list ---> {list1}\", end=\"\\n\")\n",
        "print(f\"Removed element ---> {removed_element}\")\n",
        "\n",
        "list1.pop(2)\n",
        "print(f\"After popping the 2nd index in the list ---> {list1}\", end=\"\\n\\n\")\n",
        "\n",
        "# remove element using the del\n",
        "print(\"DEL\")\n",
        "list1 = [1,2,\"Prabu\",\"Ram\",4,5]\n",
        "print(f\"Initial elements in the list ---> {list1}\", end=\"\\n\")\n",
        "del list1[2]\n",
        "print(f\"After deleting the 2nd index in the list ---> {list1}\", end=\"\\n\\n\")\n",
        "\n",
        "# remove more elements using del\n",
        "list1 = [1,2,\"Prabu\",\"Ram\",4,5]\n",
        "print(f\"Initial elements in the list ---> {list1}\", end=\"\\n\")\n",
        "del list1[2:5] # It won't include 5th element\n",
        "print(f\"After deleting the index from 2 to 5 in the list ---> {list1}\", end=\"\\n\")\n",
        "del list1[2:10] # It won't throw IndexError\n",
        "print(f\"After deleting the index from 2 to 10 in the list ---> {list1}\", end=\"\\n\\n\")\n",
        "\n",
        "# del the entire list\n",
        "list1 = [1,2,\"Prabu\",\"Ram\",4,5]\n",
        "print(f\"Initial elements in the list ---> {list1}\", end=\"\\n\")\n",
        "del list1\n",
        "print(\"If you are trying to access the list, it will throw NameError\", end=\"\\n\\n\")\n",
        "# print(f\"After deleting the list ---> {list1}\", end=\"\\n\\n\")\n",
        "\n",
        "# clear method\n",
        "print(\"CLEAR\")\n",
        "list1 = [1,2,\"Prabu\",\"Ram\",4,5]\n",
        "print(f\"Initial elements in the list ---> {list1}\", end=\"\\n\")\n",
        "list1.clear()\n",
        "print(f\"After clearing the list ---> {list1}\", end=\"\\n\\n\")"
      ],
      "metadata": {
        "colab": {
          "base_uri": "https://localhost:8080/"
        },
        "id": "nO-f_BpKu4bR",
        "outputId": "c6568b40-a990-4a0b-f2f4-991288af588b"
      },
      "execution_count": 77,
      "outputs": [
        {
          "output_type": "stream",
          "name": "stdout",
          "text": [
            "REMOVE\n",
            "Initial elements in the list ---> [1, 2, 'Prabu', 'Ram', 4, 5]\n",
            "After removing the element ---> [1, 2, 'Ram', 4, 5]\n",
            "\n",
            "POP\n",
            "Initial elements in the list ---> [1, 2, 'Prabu', 'Ram', 4, 5]\n",
            "After popping the element in the list ---> [1, 2, 'Prabu', 'Ram', 4]\n",
            "Removed element ---> 5\n",
            "After popping the 2nd index in the list ---> [1, 2, 'Ram', 4]\n",
            "\n",
            "DEL\n",
            "Initial elements in the list ---> [1, 2, 'Prabu', 'Ram', 4, 5]\n",
            "After deleting the 2nd index in the list ---> [1, 2, 'Ram', 4, 5]\n",
            "\n",
            "Initial elements in the list ---> [1, 2, 'Prabu', 'Ram', 4, 5]\n",
            "After deleting the index from 2 to 5 in the list ---> [1, 2, 5]\n",
            "After deleting the index from 2 to 10 in the list ---> [1, 2]\n",
            "\n",
            "Initial elements in the list ---> [1, 2, 'Prabu', 'Ram', 4, 5]\n",
            "If you are trying to access the list, it will throw NameError\n",
            "\n",
            "CLEAR\n",
            "Initial elements in the list ---> [1, 2, 'Prabu', 'Ram', 4, 5]\n",
            "After clearing the list ---> []\n",
            "\n"
          ]
        }
      ]
    }
  ]
}