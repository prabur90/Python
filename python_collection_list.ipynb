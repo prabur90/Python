{
  "nbformat": 4,
  "nbformat_minor": 0,
  "metadata": {
    "colab": {
      "provenance": [],
      "authorship_tag": "ABX9TyO6yxpsNOTV1njJEKPvHeq9",
      "include_colab_link": true
    },
    "kernelspec": {
      "name": "python3",
      "display_name": "Python 3"
    },
    "language_info": {
      "name": "python"
    }
  },
  "cells": [
    {
      "cell_type": "markdown",
      "metadata": {
        "id": "view-in-github",
        "colab_type": "text"
      },
      "source": [
        "<a href=\"https://colab.research.google.com/github/prabur90/Python/blob/Collections_and_datatypes/python_collection_list.ipynb\" target=\"_parent\"><img src=\"https://colab.research.google.com/assets/colab-badge.svg\" alt=\"Open In Colab\"/></a>"
      ]
    },
    {
      "cell_type": "markdown",
      "source": [
        "`\n",
        "**This Program will explain the the concepts of Python List Data Type in Python. **\n",
        "`"
      ],
      "metadata": {
        "id": "QfVk65v2t9bk"
      }
    },
    {
      "cell_type": "markdown",
      "source": [
        "```\n",
        "# **`List`**\n",
        "```\n",
        "```\n",
        "1) List may contain duplicate Elements\n",
        "2) Follow the insertion order\n",
        "3) Mutable - We can add or remove the elements after created\n",
        "4) Syntax:\n",
        "      list1 = []\n",
        "5) Example:\n",
        "      list1 = [1,2,3, \"Prabu\", \"Ram\"]\n",
        "6) We can access the element using it's index\n",
        "```"
      ],
      "metadata": {
        "id": "E8YKHbnhyuYQ"
      }
    },
    {
      "cell_type": "code",
      "source": [],
      "metadata": {
        "id": "rB287iVi2Rhl"
      },
      "execution_count": null,
      "outputs": []
    },
    {
      "cell_type": "code",
      "source": [
        "# List Data Type\n",
        "# Create a list\n",
        "list = [1, 2, 3, \"Prabu\", (4,5),{\"age\":37}]\n",
        "print(list)"
      ],
      "metadata": {
        "colab": {
          "base_uri": "https://localhost:8080/"
        },
        "id": "8mgm3FRwuEfo",
        "outputId": "7a6cfdcb-2c90-4fd9-8355-f960eeae4963"
      },
      "execution_count": 11,
      "outputs": [
        {
          "output_type": "stream",
          "name": "stdout",
          "text": [
            "[1, 2, 3, 'Prabu', (4, 5), {'age': 37}]\n"
          ]
        }
      ]
    },
    {
      "cell_type": "code",
      "source": [
        "# Accessing the List Elements\n",
        "print(list[0])\n",
        "print(list[1])\n",
        "print(list[2])\n",
        "print(list[3])\n",
        "print(list[4])\n",
        "print(list[5])\n",
        "\n",
        "# Using for loop\n",
        "for i in list:\n",
        "    print(i, end=\" \")"
      ],
      "metadata": {
        "colab": {
          "base_uri": "https://localhost:8080/"
        },
        "id": "l8zLZIVCytQZ",
        "outputId": "6adb352e-21a2-4204-eadc-2f97b53606f3"
      },
      "execution_count": 19,
      "outputs": [
        {
          "output_type": "stream",
          "name": "stdout",
          "text": [
            "1\n",
            "2\n",
            "3\n",
            "Prabu\n",
            "(4, 5)\n",
            "{'age': 37}\n",
            "1 2 3 Prabu (4, 5) {'age': 37} "
          ]
        }
      ]
    },
    {
      "cell_type": "code",
      "source": [
        "# How to append an element into the list\n",
        "# 1. We can add one element at a time\n",
        "# 2. Added in the last index\n",
        "\n",
        "list.append({\"name\": \"Dharaneesh\"})\n",
        "print(list)"
      ],
      "metadata": {
        "colab": {
          "base_uri": "https://localhost:8080/"
        },
        "id": "_mIhvqKtuZT3",
        "outputId": "d85efeb7-0570-43b1-b513-fe414e0fb61d"
      },
      "execution_count": 21,
      "outputs": [
        {
          "output_type": "stream",
          "name": "stdout",
          "text": [
            "[1, 2, 3, 'Prabu', (4, 5), {'age': 37}, {'name': 'Dharaneesh'}, {'name': 'Dharaneesh'}]\n"
          ]
        }
      ]
    },
    {
      "cell_type": "code",
      "source": [],
      "metadata": {
        "id": "nO-f_BpKu4bR"
      },
      "execution_count": null,
      "outputs": []
    }
  ]
}