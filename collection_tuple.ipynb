{
  "nbformat": 4,
  "nbformat_minor": 0,
  "metadata": {
    "colab": {
      "provenance": [],
      "authorship_tag": "ABX9TyMKHw6Falgs1nMMexBVzCIz",
      "include_colab_link": true
    },
    "kernelspec": {
      "name": "python3",
      "display_name": "Python 3"
    },
    "language_info": {
      "name": "python"
    }
  },
  "cells": [
    {
      "cell_type": "markdown",
      "metadata": {
        "id": "view-in-github",
        "colab_type": "text"
      },
      "source": [
        "<a href=\"https://colab.research.google.com/github/prabur90/Python/blob/main/collection_tuple.ipynb\" target=\"_parent\"><img src=\"https://colab.research.google.com/assets/colab-badge.svg\" alt=\"Open In Colab\"/></a>"
      ]
    },
    {
      "cell_type": "code",
      "execution_count": null,
      "metadata": {
        "id": "RDd9FVpTqOVy"
      },
      "outputs": [],
      "source": []
    },
    {
      "cell_type": "markdown",
      "source": [
        "\n",
        "### TUPLE\n",
        "\n"
      ],
      "metadata": {
        "id": "6ZAIozN_sWmP"
      }
    },
    {
      "cell_type": "markdown",
      "source": [
        "\n",
        "```\n",
        "1) Tuple may contain duplicate elements.\n",
        "2) Tuple is immutable.\n",
        "3) Tuple is ordered.\n",
        "4) Tuple is indexed.\n",
        "\n",
        "Syntax: tuple_name = (value1, value2, value3, ...)\n",
        "Example: tuple1 = (10, 20, 30, 40, 50)\n",
        "```"
      ],
      "metadata": {
        "id": "E8YKHbnhyuYQ"
      }
    },
    {
      "cell_type": "markdown",
      "source": [
        "\n",
        "# CREATE OPERATION"
      ],
      "metadata": {
        "id": "J_Hp0Urfte7E"
      }
    },
    {
      "cell_type": "code",
      "source": [
        "# Create tuple with \"(\" and \")\"\n",
        "tuple1 = (10, 20, 30, 40, 50)\n",
        "print(tuple1)\n",
        "print(type(tuple1))\n",
        "\n",
        "# Important with the creation\n",
        "tuple1 = (10)\n",
        "print(tuple1)\n",
        "print(type(tuple1)) # It will throw int type\n",
        "\n",
        "tuple1 = (10,)\n",
        "print(tuple1)\n",
        "print(type(tuple1))"
      ],
      "metadata": {
        "colab": {
          "base_uri": "https://localhost:8080/"
        },
        "id": "hcCABy1ZteDU",
        "outputId": "7b265f14-7a53-43d4-cf0d-0c7c02d02f8f"
      },
      "execution_count": 11,
      "outputs": [
        {
          "output_type": "stream",
          "name": "stdout",
          "text": [
            "(10, 20, 30, 40, 50)\n",
            "<class 'tuple'>\n",
            "10\n",
            "<class 'int'>\n",
            "(10,)\n",
            "<class 'tuple'>\n"
          ]
        }
      ]
    },
    {
      "cell_type": "markdown",
      "source": [
        "\n",
        "# READ OPERATION"
      ],
      "metadata": {
        "id": "I_vBQ_jZwghR"
      }
    },
    {
      "cell_type": "code",
      "source": [
        "tuple1 = (10, 20, 30, 40, 50)\n",
        "print(tuple1)\n",
        "\n",
        "print(\"USING INDEX\")\n",
        "print(tuple1[0])\n",
        "print(tuple1[1])\n",
        "print(tuple1[2])\n",
        "print(tuple1[3])\n",
        "print(tuple1[4], end=\"\\n\\n\")\n",
        "\n",
        "print(\"USING SLICING\")\n",
        "print(tuple1[0:3])\n",
        "aTuple = (\"Orange\", [10, 20, 30], (5, 15, 25))\n",
        "print(aTuple[1])\n",
        "print(aTuple[1][1])\n",
        "print(aTuple[1:2], end=\"\\n\\n\")\n",
        "\n",
        "# It will throw Index Error\n",
        "# print(tuple1[5])\n",
        "\n",
        "# Negative Index\n",
        "print(\"USING NEGATIVE INDEX\")\n",
        "print(tuple1[-1])\n",
        "print(tuple1[-2])\n",
        "print(tuple1[-3])\n",
        "print(tuple1[-4])\n",
        "print(tuple1[-5], end=\"\\n\\n\")\n",
        "\n",
        "print(\"USING FOR LOOP\")\n",
        "for i in tuple1:\n",
        "  print(i)"
      ],
      "metadata": {
        "colab": {
          "base_uri": "https://localhost:8080/"
        },
        "id": "CmpC8hjGwPqF",
        "outputId": "38942621-b5fa-4f28-af63-bf0397516527"
      },
      "execution_count": 57,
      "outputs": [
        {
          "output_type": "stream",
          "name": "stdout",
          "text": [
            "(10, 20, 30, 40, 50)\n",
            "USING INDEX\n",
            "10\n",
            "20\n",
            "30\n",
            "40\n",
            "50\n",
            "\n",
            "USING SLICING\n",
            "(10, 20, 30)\n",
            "[10, 20, 30]\n",
            "20\n",
            "([10, 20, 30],)\n",
            "\n",
            "USING NEGATIVE INDEX\n",
            "50\n",
            "40\n",
            "30\n",
            "20\n",
            "10\n",
            "\n",
            "USING FOR LOOP\n",
            "10\n",
            "20\n",
            "30\n",
            "40\n",
            "50\n"
          ]
        }
      ]
    },
    {
      "cell_type": "markdown",
      "source": [
        "\n",
        "# UPDATE OPERATION"
      ],
      "metadata": {
        "id": "W6JNkInU8mFY"
      }
    },
    {
      "cell_type": "code",
      "source": [
        "# We can't update the elements in Python, since it is immutable\n",
        "# If we try to update the element. it will throw Type Error\n",
        "# We don't have the append, insert method in Tuple\n",
        "tuple1 = (10, 20, 30, 40, 50)\n",
        "print(tuple1)\n",
        "\n",
        "tuple1[0] = 100"
      ],
      "metadata": {
        "colab": {
          "base_uri": "https://localhost:8080/",
          "height": 193
        },
        "id": "12aR_Iq78quP",
        "outputId": "beff35b1-42cf-4389-b481-e4163477ab22"
      },
      "execution_count": 23,
      "outputs": [
        {
          "output_type": "stream",
          "name": "stdout",
          "text": [
            "(10, 20, 30, 40, 50)\n"
          ]
        },
        {
          "output_type": "error",
          "ename": "TypeError",
          "evalue": "'tuple' object does not support item assignment",
          "traceback": [
            "\u001b[0;31m---------------------------------------------------------------------------\u001b[0m",
            "\u001b[0;31mTypeError\u001b[0m                                 Traceback (most recent call last)",
            "\u001b[0;32m<ipython-input-23-939bd5d67418>\u001b[0m in \u001b[0;36m<cell line: 6>\u001b[0;34m()\u001b[0m\n\u001b[1;32m      4\u001b[0m \u001b[0mprint\u001b[0m\u001b[0;34m(\u001b[0m\u001b[0mtuple1\u001b[0m\u001b[0;34m)\u001b[0m\u001b[0;34m\u001b[0m\u001b[0;34m\u001b[0m\u001b[0m\n\u001b[1;32m      5\u001b[0m \u001b[0;34m\u001b[0m\u001b[0m\n\u001b[0;32m----> 6\u001b[0;31m \u001b[0mtuple1\u001b[0m\u001b[0;34m[\u001b[0m\u001b[0;36m0\u001b[0m\u001b[0;34m]\u001b[0m \u001b[0;34m=\u001b[0m \u001b[0;36m100\u001b[0m\u001b[0;34m\u001b[0m\u001b[0;34m\u001b[0m\u001b[0m\n\u001b[0m",
            "\u001b[0;31mTypeError\u001b[0m: 'tuple' object does not support item assignment"
          ]
        }
      ]
    },
    {
      "cell_type": "markdown",
      "source": [
        "\n",
        "# JOIN OPERATION"
      ],
      "metadata": {
        "id": "C5eVQo7hEGZW"
      }
    },
    {
      "cell_type": "code",
      "source": [
        "# But we can add new tupple with the existing tuple\n",
        "tuple1 = (10, 20, 30, 40, 50)\n",
        "print(tuple1)\n",
        "\n",
        "tuple1 = tuple1 + (60, 70)\n",
        "print(tuple1)\n",
        "\n",
        "tuple1 = tuple1 * 2\n",
        "print(tuple1)"
      ],
      "metadata": {
        "colab": {
          "base_uri": "https://localhost:8080/"
        },
        "id": "y1g-AI3c9BJz",
        "outputId": "96d5a642-b06b-4380-8990-6183300450ac"
      },
      "execution_count": 42,
      "outputs": [
        {
          "output_type": "stream",
          "name": "stdout",
          "text": [
            "(10, 20, 30, 40, 50)\n",
            "(10, 20, 30, 40, 50, 60, 70)\n",
            "(10, 20, 30, 40, 50, 60, 70, 10, 20, 30, 40, 50, 60, 70)\n"
          ]
        }
      ]
    },
    {
      "cell_type": "markdown",
      "source": [
        "\n",
        "# DELETE OPERATION"
      ],
      "metadata": {
        "id": "Tuh1z6k3-MnH"
      }
    },
    {
      "cell_type": "code",
      "source": [
        "# we don't have remove, pop in the tuple, Also we can't del the element but we can delete the entire tuple\n",
        "tuple1 = (10, 20, 30, 40, 50)\n",
        "print(tuple1)\n",
        "\n",
        "del tuple1\n",
        "\n",
        "# It will throw Name Error\n",
        "print(tuple1)\n"
      ],
      "metadata": {
        "colab": {
          "base_uri": "https://localhost:8080/",
          "height": 193
        },
        "id": "dpQ9KRlk83Lv",
        "outputId": "ac8c2193-d0ab-48a2-9e72-c468cfadee46"
      },
      "execution_count": 32,
      "outputs": [
        {
          "output_type": "stream",
          "name": "stdout",
          "text": [
            "(10, 20, 30, 40, 50)\n"
          ]
        },
        {
          "output_type": "error",
          "ename": "NameError",
          "evalue": "name 'tuple1' is not defined",
          "traceback": [
            "\u001b[0;31m---------------------------------------------------------------------------\u001b[0m",
            "\u001b[0;31mNameError\u001b[0m                                 Traceback (most recent call last)",
            "\u001b[0;32m<ipython-input-32-3c6abd4844db>\u001b[0m in \u001b[0;36m<cell line: 8>\u001b[0;34m()\u001b[0m\n\u001b[1;32m      6\u001b[0m \u001b[0;34m\u001b[0m\u001b[0m\n\u001b[1;32m      7\u001b[0m \u001b[0;31m# It will throw Name Error\u001b[0m\u001b[0;34m\u001b[0m\u001b[0;34m\u001b[0m\u001b[0m\n\u001b[0;32m----> 8\u001b[0;31m \u001b[0mprint\u001b[0m\u001b[0;34m(\u001b[0m\u001b[0mtuple1\u001b[0m\u001b[0;34m)\u001b[0m\u001b[0;34m\u001b[0m\u001b[0;34m\u001b[0m\u001b[0m\n\u001b[0m",
            "\u001b[0;31mNameError\u001b[0m: name 'tuple1' is not defined"
          ]
        }
      ]
    },
    {
      "cell_type": "markdown",
      "source": [
        "\n",
        "# LENGTH and COUNT"
      ],
      "metadata": {
        "id": "5JYoMaAPCcYH"
      }
    },
    {
      "cell_type": "code",
      "source": [
        "tuple1= (10, 20, 30, 40, 50)\n",
        "print(tuple1)\n",
        "\n",
        "print(\"LENGTH\")\n",
        "print(len(tuple1))\n",
        "\n",
        "print(\"COUNT\")\n",
        "print(tuple1.count(10))\n",
        "\n",
        "print(\"INDEX\")\n",
        "print(tuple1.index(20))"
      ],
      "metadata": {
        "colab": {
          "base_uri": "https://localhost:8080/"
        },
        "id": "QDUhVL2FCU_3",
        "outputId": "e7bb430f-7b54-405e-9426-dfd579da1de4"
      },
      "execution_count": 41,
      "outputs": [
        {
          "output_type": "stream",
          "name": "stdout",
          "text": [
            "(10, 20, 30, 40, 50)\n",
            "LENGTH\n",
            "5\n",
            "COUNT\n",
            "1\n",
            "INDEX\n",
            "1\n"
          ]
        }
      ]
    },
    {
      "cell_type": "markdown",
      "source": [
        "\n",
        "# SORT and REVERSE"
      ],
      "metadata": {
        "id": "vCj3Fw-QCrQz"
      }
    },
    {
      "cell_type": "code",
      "source": [
        "tuple1 = (10, 20, 30, 40, 50)\n",
        "print(tuple1)\n",
        "\n",
        "# We can't use the sort function in Python, since sort will update the tuple. But sorted will create the new tuple.\n",
        "#print(sort(tuple1))\n",
        "\n",
        "print(\"SORT\")\n",
        "print(sorted(tuple1))\n",
        "\n",
        "print(\"REVERSE\")\n",
        "tuple2 = tuple1[::-1]\n",
        "print(tuple2) # It will also create the new tuple"
      ],
      "metadata": {
        "colab": {
          "base_uri": "https://localhost:8080/"
        },
        "id": "Z5vuw46rCwGg",
        "outputId": "69e2b0f3-c85f-4387-cbe6-a40a54226f13"
      },
      "execution_count": 38,
      "outputs": [
        {
          "output_type": "stream",
          "name": "stdout",
          "text": [
            "(10, 20, 30, 40, 50)\n",
            "SORT\n",
            "[10, 20, 30, 40, 50]\n",
            "REVERSE\n",
            "(50, 40, 30, 20, 10)\n"
          ]
        }
      ]
    },
    {
      "cell_type": "markdown",
      "source": [
        "\n",
        "# min, max, sum"
      ],
      "metadata": {
        "id": "1LnuppmtDagL"
      }
    },
    {
      "cell_type": "code",
      "source": [
        "tuple1 = (10, 20, 30, 40, 50)\n",
        "print(tuple1)\n",
        "\n",
        "print(\"MIN\")\n",
        "print(min(tuple1))\n",
        "\n",
        "print(\"MAX\")\n",
        "print(max(tuple1))\n",
        "\n",
        "print(\"SUM\")\n",
        "print(sum(tuple1))"
      ],
      "metadata": {
        "colab": {
          "base_uri": "https://localhost:8080/"
        },
        "id": "KtJOkBw2Df_z",
        "outputId": "caebd32b-eaab-4c89-f933-b675b4f313a5"
      },
      "execution_count": 39,
      "outputs": [
        {
          "output_type": "stream",
          "name": "stdout",
          "text": [
            "(10, 20, 30, 40, 50)\n",
            "MIN\n",
            "10\n",
            "MAX\n",
            "50\n",
            "SUM\n",
            "150\n"
          ]
        }
      ]
    },
    {
      "cell_type": "markdown",
      "source": [
        "\n",
        "# UNPACK TUPLE"
      ],
      "metadata": {
        "id": "-NwP1Y_uEV73"
      }
    },
    {
      "cell_type": "code",
      "source": [
        "# We can assign the values to a variable by unpacking the tuple as like below\n",
        "# Here notice that when we use \"*\", it will return as list data type\n",
        "fruits = (\"apple\", \"banana\", \"cherry\")\n",
        "print(fruits)\n",
        "\n",
        "(green, yellow, red) = fruits\n",
        "print(green)\n",
        "print(yellow)\n",
        "print(red)\n",
        "\n",
        "fruits = (\"apple\", \"banana\", \"cherry\", \"strawberry\", \"raspberry\")\n",
        "(green, yellow, *red) = fruits\n",
        "\n",
        "print(green)\n",
        "print(yellow)\n",
        "print(red)\n",
        "\n",
        "print(type(green))\n",
        "print(type(yellow))\n",
        "print(type(red))\n",
        "\n",
        "fruits = (\"apple\", \"mango\", \"papaya\", \"pineapple\", \"cherry\")\n",
        "\n",
        "(green, *tropic, red) = fruits\n",
        "\n",
        "print(green)\n",
        "print(tropic)\n",
        "print(red)"
      ],
      "metadata": {
        "colab": {
          "base_uri": "https://localhost:8080/"
        },
        "id": "lEWJP97uET9d",
        "outputId": "41cc9537-70de-4e46-e7cd-836dd694c052"
      },
      "execution_count": 48,
      "outputs": [
        {
          "output_type": "stream",
          "name": "stdout",
          "text": [
            "('apple', 'banana', 'cherry')\n",
            "apple\n",
            "banana\n",
            "cherry\n",
            "apple\n",
            "banana\n",
            "['cherry', 'strawberry', 'raspberry']\n",
            "<class 'str'>\n",
            "<class 'str'>\n",
            "<class 'list'>\n",
            "apple\n",
            "['mango', 'papaya', 'pineapple']\n",
            "cherry\n"
          ]
        }
      ]
    },
    {
      "cell_type": "code",
      "source": [],
      "metadata": {
        "id": "E-6LCSmgFO8K"
      },
      "execution_count": null,
      "outputs": []
    }
  ]
}