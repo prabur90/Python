{
  "nbformat": 4,
  "nbformat_minor": 0,
  "metadata": {
    "colab": {
      "provenance": [],
      "authorship_tag": "ABX9TyNHlT6Ja1hiEeCiIJKc6xeN",
      "include_colab_link": true
    },
    "kernelspec": {
      "name": "python3",
      "display_name": "Python 3"
    },
    "language_info": {
      "name": "python"
    }
  },
  "cells": [
    {
      "cell_type": "markdown",
      "metadata": {
        "id": "view-in-github",
        "colab_type": "text"
      },
      "source": [
        "<a href=\"https://colab.research.google.com/github/prabur90/Python/blob/main/filter.ipynb\" target=\"_parent\"><img src=\"https://colab.research.google.com/assets/colab-badge.svg\" alt=\"Open In Colab\"/></a>"
      ]
    },
    {
      "cell_type": "markdown",
      "source": [
        "\n",
        "### FILTER, MAP and REDUCE"
      ],
      "metadata": {
        "id": "6ZAIozN_sWmP"
      }
    },
    {
      "cell_type": "markdown",
      "source": [
        "\n",
        "### FILTER"
      ],
      "metadata": {
        "id": "2fCGaAiyQdtZ"
      }
    },
    {
      "cell_type": "markdown",
      "source": [
        "\n",
        "\n",
        "```\n",
        "The filter() function returns an iterator where the items are filtered through a function to test if the item is accepted or not.\n",
        "\n",
        "Syntax: filter(function, iterable)\n",
        "```\n",
        "\n"
      ],
      "metadata": {
        "id": "fFvJC11QQOiQ"
      }
    },
    {
      "cell_type": "code",
      "source": [
        "# Using Filter\n",
        "\n",
        "ages = [10,12,14,16,18]\n",
        "\n",
        "def myfunc(x):\n",
        "  if x > 13:\n",
        "    return True\n",
        "\n",
        "adults = filter(myfunc, ages)\n",
        "print(type(adults))\n",
        "for x in adults:\n",
        "  print(x)"
      ],
      "metadata": {
        "colab": {
          "base_uri": "https://localhost:8080/"
        },
        "id": "3IJJW_b9NLjm",
        "outputId": "77b27a8c-fdbb-4723-e683-3809f9dbbfae"
      },
      "execution_count": 10,
      "outputs": [
        {
          "output_type": "stream",
          "name": "stdout",
          "text": [
            "<class 'filter'>\n",
            "14\n",
            "16\n",
            "18\n"
          ]
        }
      ]
    },
    {
      "cell_type": "code",
      "source": [
        "# without filter, how can you get your values\n",
        "\n",
        "ages = [10,12,14,16,18]\n",
        "\n",
        "adults = []\n",
        "\n",
        "for x in ages:\n",
        "  if x > 13:\n",
        "    adults.append(x)\n",
        "\n",
        "print(adults)"
      ],
      "metadata": {
        "colab": {
          "base_uri": "https://localhost:8080/"
        },
        "id": "ZsVhGYMNOcOX",
        "outputId": "faf106b8-6df5-4e7f-db5d-c51e9b59a411"
      },
      "execution_count": 6,
      "outputs": [
        {
          "output_type": "stream",
          "name": "stdout",
          "text": [
            "[14, 16, 18]\n"
          ]
        }
      ]
    },
    {
      "cell_type": "markdown",
      "source": [
        "\n",
        "### MAP"
      ],
      "metadata": {
        "id": "mShb-kK6Qoex"
      }
    },
    {
      "cell_type": "markdown",
      "source": [
        "\n",
        "\n",
        "```\n",
        "The map() function executes a specified function for each item in an iterable. The item is sent to the function as a parameter.\n",
        "\n",
        "Syntax: map(function, iterable)\n",
        "```\n",
        "\n"
      ],
      "metadata": {
        "id": "6qYRtG7sQj-3"
      }
    },
    {
      "cell_type": "code",
      "source": [
        "names = [\"Prabu\", \"Ram\", \"Shyam\"]\n",
        "\n",
        "def myfunc(x):\n",
        "  return x.upper()\n",
        "\n",
        "x = map(myfunc, names)\n",
        "print(type(x))\n",
        "print(tuple(x))"
      ],
      "metadata": {
        "colab": {
          "base_uri": "https://localhost:8080/"
        },
        "id": "x3Rm6Ir0QtF4",
        "outputId": "c08c225e-662b-4cbb-8005-093ee496ce50"
      },
      "execution_count": 20,
      "outputs": [
        {
          "output_type": "stream",
          "name": "stdout",
          "text": [
            "('PRABU', 'RAM', 'SHYAM')\n",
            "<class 'map'>\n"
          ]
        }
      ]
    },
    {
      "cell_type": "markdown",
      "source": [
        "\n",
        "### REDUCE"
      ],
      "metadata": {
        "id": "a1likUqySZba"
      }
    },
    {
      "cell_type": "markdown",
      "source": [
        "\n",
        "\n",
        "```\n",
        "The map() function executes a specified function for each item in an iterable. The item is sent to the function as a parameter.\n",
        "\n",
        "Syntax: map(function, iterable)\n",
        "```\n",
        "\n"
      ],
      "metadata": {
        "id": "B5lMBnn_Sa5h"
      }
    },
    {
      "cell_type": "code",
      "source": [
        "# Examples to understand the reduce() function\n",
        "from functools import reduce\n",
        "\n",
        "def add(a, b):\n",
        "    return a + b\n",
        "\n",
        "# Our Iterable\n",
        "num_list = [1, 2, 3, 4, 5, 6, 7, 8, 9, 10]\n",
        "\n",
        "# add function is passed as the first argument, and num_list is passed as the second argument\n",
        "sum = reduce(add, num_list)\n",
        "print(f\"Sum of the integers of num_list : {sum}\")\n",
        "\n",
        "# Passing 10 as an initial value\n",
        "sum = reduce(add, num_list, 10)\n",
        "print(f\"Sum of the integers of num_list with initial value 10 : {sum}\")\n"
      ],
      "metadata": {
        "colab": {
          "base_uri": "https://localhost:8080/"
        },
        "id": "nyzJLsu4Smd3",
        "outputId": "dd27962c-4040-4d66-a45c-10152f632a66"
      },
      "execution_count": 24,
      "outputs": [
        {
          "output_type": "stream",
          "name": "stdout",
          "text": [
            "Sum of the integers of num_list : 55\n",
            "Sum of the integers of num_list with initial value 10 : 65\n"
          ]
        }
      ]
    }
  ]
}